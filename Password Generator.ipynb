{
 "cells": [
  {
   "cell_type": "markdown",
   "metadata": {},
   "source": [
    "Password generator\n",
    "between 5 and 10 signs (including letters numbers and signs)"
   ]
  },
  {
   "cell_type": "code",
   "execution_count": 3,
   "metadata": {},
   "outputs": [
    {
     "name": "stdout",
     "output_type": "stream",
     "text": [
      "['a', 'b', 'c', 'd', 'e', 'f', 'g', 'h', 'i', 'j', 'k', 'l', 'm', 'n', 'o', 'p', 'q', 'r', 's', 't', 'u', 'v', 'w', 'x', 'y', 'z']\n"
     ]
    }
   ],
   "source": [
    "import string\n",
    "string.ascii_lowercase\n",
    "alphabet = list(string.ascii_lowercase)\n",
    "print(alphabet)"
   ]
  },
  {
   "cell_type": "code",
   "execution_count": 4,
   "metadata": {},
   "outputs": [
    {
     "name": "stdout",
     "output_type": "stream",
     "text": [
      "[0, 1, 2, 3, 4, 5, 6, 7, 8, 9]\n"
     ]
    }
   ],
   "source": [
    "numbers = list(range(10))\n",
    "print(numbers)"
   ]
  },
  {
   "cell_type": "code",
   "execution_count": 5,
   "metadata": {},
   "outputs": [
    {
     "name": "stdout",
     "output_type": "stream",
     "text": [
      "['_', '!', '?', ',', '.', '-']\n"
     ]
    }
   ],
   "source": [
    "signs = ['_', '!', '?', ',', '.', '-']\n",
    "print(signs)"
   ]
  },
  {
   "cell_type": "code",
   "execution_count": 6,
   "metadata": {},
   "outputs": [
    {
     "name": "stdout",
     "output_type": "stream",
     "text": [
      "['l', 't', 9, '!', 'k', '_', 'r', 'o', 7]\n"
     ]
    }
   ],
   "source": [
    "import random\n",
    "letters = random.sample(alphabet, 5)\n",
    "number = random.sample(numbers, 2)\n",
    "teken = random.sample(signs, 2)\n",
    "password_base = letters + number + teken\n",
    "random.shuffle(password_base)\n",
    "print(password_base)\n",
    "      "
   ]
  },
  {
   "cell_type": "code",
   "execution_count": 10,
   "metadata": {},
   "outputs": [
    {
     "name": "stdout",
     "output_type": "stream",
     "text": [
      "48vrkg,-z\n"
     ]
    }
   ],
   "source": [
    "import random\n",
    "def password_generator():\n",
    "      letters = random.sample(alphabet, 5)\n",
    "      number = random.sample(numbers, 2)\n",
    "      teken = random.sample(signs, 2)\n",
    "      password_base = letters + number + teken\n",
    "      random.shuffle(password_base)\n",
    "      print(\"\".join(map(str,password_base)))\n",
    "\n",
    "password_generator()"
   ]
  }
 ],
 "metadata": {
  "kernelspec": {
   "display_name": "Python 3.9.13 64-bit (windows store)",
   "language": "python",
   "name": "python3"
  },
  "language_info": {
   "codemirror_mode": {
    "name": "ipython",
    "version": 3
   },
   "file_extension": ".py",
   "mimetype": "text/x-python",
   "name": "python",
   "nbconvert_exporter": "python",
   "pygments_lexer": "ipython3",
   "version": "3.9.13"
  },
  "orig_nbformat": 4,
  "vscode": {
   "interpreter": {
    "hash": "7cb677f5a36b0b6c33577f9412eb6ef9ddf304d0fc15a14ff7c570c4f04b06b9"
   }
  }
 },
 "nbformat": 4,
 "nbformat_minor": 2
}
